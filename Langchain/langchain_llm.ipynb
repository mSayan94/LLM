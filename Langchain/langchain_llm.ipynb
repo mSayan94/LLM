{
 "cells": [
  {
   "cell_type": "code",
   "execution_count": 1,
   "metadata": {},
   "outputs": [
    {
     "data": {
      "text/plain": [
       "True"
      ]
     },
     "execution_count": 1,
     "metadata": {},
     "output_type": "execute_result"
    }
   ],
   "source": [
    "import os\n",
    "import openai\n",
    "from dotenv import load_dotenv, dotenv_values\n",
    "from langchain.llms import HuggingFaceHub\n",
    "from langchain.chat_models import AzureChatOpenAI\n",
    "load_dotenv()"
   ]
  },
  {
   "cell_type": "markdown",
   "metadata": {},
   "source": [
    "## Load an LLM Model"
   ]
  },
  {
   "cell_type": "markdown",
   "metadata": {},
   "source": [
    "### Hugging Face Hub"
   ]
  },
  {
   "cell_type": "code",
   "execution_count": null,
   "metadata": {},
   "outputs": [],
   "source": [
    "api_token = os.getenv(\"HUGGINGFACE_API_TOKEN\")\n",
    "model_name = os.getenv(\"HUGGINGFACE_MODEL_NAME\")\n",
    "huggingface_llm_model = HuggingFaceHub(\n",
    "    huggingfacehub_api_token=api_token, repo_id=model_name, model_kwargs={\n",
    "        \"max_length\": 128, \n",
    "        \"temperature\": 0.5}\n",
    ")\n",
    "print(huggingface_llm_model.predict(\"Suggest me some amazing places to visit in Delhi\"))"
   ]
  },
  {
   "cell_type": "markdown",
   "metadata": {},
   "source": [
    "### Azure OpenAI"
   ]
  },
  {
   "cell_type": "code",
   "execution_count": 3,
   "metadata": {},
   "outputs": [
    {
     "name": "stdout",
     "output_type": "stream",
     "text": [
      "The capital of India is New Delhi.\n"
     ]
    }
   ],
   "source": [
    "azure_openai_model = AzureChatOpenAI(\n",
    "    azure_deployment =\"gpt-35-turbo-16k\",\n",
    "    azure_endpoint =os.getenv(\"OPENAI_API_BASE\"),\n",
    "    openai_api_key =os.getenv(\"OPENAI_API_KEY\")\n",
    ")\n",
    "print(azure_openai_model.predict(\"What is the capital of India\"))"
   ]
  },
  {
   "cell_type": "markdown",
   "metadata": {},
   "source": [
    "## Prompt Templates"
   ]
  },
  {
   "cell_type": "code",
   "execution_count": 4,
   "metadata": {},
   "outputs": [
    {
     "data": {
      "text/plain": [
       "'Tell me the capital of India'"
      ]
     },
     "execution_count": 4,
     "metadata": {},
     "output_type": "execute_result"
    }
   ],
   "source": [
    "from langchain.prompts import PromptTemplate\n",
    "\n",
    "prompt_template = PromptTemplate(input_variables=['country'],template=\"Tell me the capital of {country}\")\n",
    "prompt_template.format(country = \"India\")"
   ]
  },
  {
   "cell_type": "markdown",
   "metadata": {},
   "source": [
    "## LLM Chains"
   ]
  },
  {
   "cell_type": "markdown",
   "metadata": {},
   "source": [
    "### How to use LLM Chain"
   ]
  },
  {
   "cell_type": "code",
   "execution_count": 8,
   "metadata": {},
   "outputs": [
    {
     "data": {
      "text/plain": [
       "'The capital of India is New Delhi.'"
      ]
     },
     "execution_count": 8,
     "metadata": {},
     "output_type": "execute_result"
    }
   ],
   "source": [
    "from langchain.chains import LLMChain\n",
    "\n",
    "chain = LLMChain(llm=azure_openai_model, prompt=prompt_template)\n",
    "chain.run(\"India\")"
   ]
  },
  {
   "cell_type": "markdown",
   "metadata": {},
   "source": [
    "***So, the Final code block looks like this***"
   ]
  },
  {
   "cell_type": "code",
   "execution_count": 9,
   "metadata": {},
   "outputs": [
    {
     "data": {
      "text/plain": [
       "'The capital of India is New Delhi.'"
      ]
     },
     "execution_count": 9,
     "metadata": {},
     "output_type": "execute_result"
    }
   ],
   "source": [
    "from langchain.prompts import PromptTemplate\n",
    "from langchain.chains import LLMChain\n",
    "\n",
    "api_token = os.getenv(\"HUGGINGFACE_API_TOKEN\")\n",
    "model_name = os.getenv(\"HUGGINGFACE_MODEL_NAME\")\n",
    "\n",
    "# llm_model = HuggingFaceHub(\n",
    "#     huggingfacehub_api_token = api_token, repo_id=model_name, model_kwargs={\"max_length\": 128, \"temperature\": 0.5}\n",
    "# )\n",
    "\n",
    "azure_openai_model = AzureChatOpenAI(\n",
    "    azure_deployment =\"gpt-35-turbo-16k\",\n",
    "    azure_endpoint =os.getenv(\"OPENAI_API_BASE\"),\n",
    "    openai_api_key =os.getenv(\"OPENAI_API_KEY\")\n",
    ")\n",
    "\n",
    "prompt_template = PromptTemplate(input_variables=['country'],template=\"Tell me the capital of {country}\")\n",
    "chain = LLMChain(llm=azure_openai_model, prompt=prompt_template)\n",
    "chain.run(\"India\")"
   ]
  },
  {
   "cell_type": "markdown",
   "metadata": {},
   "source": [
    "### Combining multiple chains using Simple sequential chains"
   ]
  },
  {
   "cell_type": "code",
   "execution_count": 10,
   "metadata": {},
   "outputs": [
    {
     "name": "stdout",
     "output_type": "stream",
     "text": [
      "1. Red Fort: A UNESCO World Heritage Site, it is a magnificent fort made of red sandstone and is known for its stunning architecture and historical significance.\n",
      "\n",
      "2. Qutub Minar: Another UNESCO World Heritage Site, this iconic minaret is the tallest brick minaret in the world and offers a breathtaking view of Delhi from the top.\n",
      "\n",
      "3. India Gate: A national monument, India Gate is a war memorial dedicated to soldiers who sacrificed their lives during World War I. It is a popular spot for picnics and evening strolls.\n",
      "\n",
      "4. Humayun's Tomb: This beautiful mausoleum is the final resting place of Mughal Emperor Humayun and is considered a precursor to the Taj Mahal. It boasts stunning Persian-inspired architecture and serene gardens.\n",
      "\n",
      "5. Lotus Temple: Known for its distinctive lotus-shaped architecture, this Bahá'í House of Worship is a place of tranquility and meditation. It welcomes people of all religions and is a must-visit for its serene ambiance.\n",
      "\n",
      "6. Akshardham Temple: A massive Hindu temple complex, Akshardham is known for its stunning architecture, intricate carvings, and exhibitions on Indian culture and spirituality.\n",
      "\n",
      "7. Jama Masjid: One of the largest mosques in India, Jama Masjid is a beautiful example of Mughal architecture. Visitors can climb to the top of the minarets for a panoramic view of Old Delhi.\n",
      "\n",
      "8. National Museum: Located in the heart of the city, the National Museum houses a vast collection of artifacts that showcase India's rich cultural heritage, including sculptures, paintings, and archaeological finds.\n",
      "\n",
      "9. Chandni Chowk: One of the oldest and busiest markets in Delhi, Chandni Chowk offers a vibrant shopping experience with its narrow lanes, bustling bazaars, and delicious street food.\n",
      "\n",
      "10. Lodhi Gardens: A peaceful escape from the city's hustle and bustle, Lodhi Gardens is a beautifully landscaped park dotted with historical tombs and monuments. It is perfect for a leisurely stroll or a picnic.\n"
     ]
    }
   ],
   "source": [
    "from langchain.chains import SimpleSequentialChain\n",
    "\n",
    "capital_template = PromptTemplate(input_variables=['country'], template=\"Please tell me the capital of {country}\")\n",
    "capital_chain = LLMChain(llm=azure_openai_model, prompt=capital_template)\n",
    "\n",
    "famous_template = PromptTemplate(input_variables=['capital'], template=\"Suggest me some amazing places to visit in {capital}\")\n",
    "famous_chain = LLMChain(llm=azure_openai_model, prompt=famous_template)\n",
    "\n",
    "chain = SimpleSequentialChain(chains=[capital_chain,famous_chain])\n",
    "print(chain.run(\"India\"))"
   ]
  },
  {
   "cell_type": "markdown",
   "metadata": {},
   "source": [
    "Here's a step-by-step approach for creating a Simple Sequential LLM Chain without relying on the Hugging Face library:\n",
    "\n",
    "1. **Import Required Modules:**\n",
    "   - Import the necessary modules, including classes like `PromptTemplate`, `LLMChain`, and `SimpleSequentialChain`.\n",
    "\n",
    "   ```python\n",
    "   from your_custom_module.prompts import PromptTemplate\n",
    "   from your_custom_module.chains import LLMChain, SimpleSequentialChain\n",
    "   ```\n",
    "\n",
    "2. **Set Up Language Model:**\n",
    "   - Set up your language model, whether it's a custom implementation or another library.\n",
    "   - Configure any necessary parameters for the language model.\n",
    "\n",
    "   ```python\n",
    "   from your_custom_module.models import YourLanguageModel\n",
    "\n",
    "   llm_model = YourLanguageModel(model_args={\"max_length\": 128, \"temperature\": 0.5})\n",
    "   ```\n",
    "\n",
    "3. **Create Prompt Templates:**\n",
    "   - Define prompt templates for input variables and desired prompts.\n",
    "\n",
    "   ```python\n",
    "   first_template = PromptTemplate(input_variables=['var1'], template=\"Your Custom template {var1}\")\n",
    "   second_template = PromptTemplate(input_variables=['var2'], template=\"Your Custom template {var2}\")\n",
    "   ```\n",
    "\n",
    "4. **Create LLM Chains:**\n",
    "   - Instantiate LLM Chains using the language model and prompt templates.\n",
    "\n",
    "   ```python\n",
    "   first_chain = LLMChain(llm=llm_model, prompt=first_template)\n",
    "   second_chain = LLMChain(llm=llm_model, prompt=second_template)\n",
    "   ```\n",
    "\n",
    "5. **Create Simple Sequential Chain:**\n",
    "   - Combine individual chains into a Simple Sequential Chain.\n",
    "\n",
    "   ```python\n",
    "   chain = SimpleSequentialChain(chains=[first_chain, second_chain])\n",
    "   ```\n",
    "\n",
    "6. **Run the Chain:**\n",
    "   - Execute the chain with a specific input.\n",
    "\n",
    "   ```python\n",
    "   result = chain.run(\"YourInputValue\")\n",
    "   ```\n",
    "\n",
    "   The `run` method initiates the sequential execution, starting with the first chain and passing the result to the next one."
   ]
  },
  {
   "cell_type": "markdown",
   "metadata": {},
   "source": [
    "***So, the Final code block looks like this***"
   ]
  },
  {
   "cell_type": "code",
   "execution_count": 11,
   "metadata": {},
   "outputs": [
    {
     "data": {
      "text/plain": [
       "\"Here are some amazing places to visit in New Delhi, the capital of India:\\n\\n1. Red Fort: A historic fort known for its stunning architecture and rich history.\\n2. Qutub Minar: A UNESCO World Heritage Site, it is the tallest brick minaret in the world.\\n3. India Gate: A war memorial dedicated to Indian soldiers, surrounded by beautiful gardens.\\n4. Jama Masjid: One of the largest mosques in India, known for its magnificent architecture.\\n5. Humayun's Tomb: A stunning Mughal-era tomb, considered a precursor to the Taj Mahal.\\n6. Lotus Temple: A Bahá'í House of Worship known for its unique lotus-shaped architecture.\\n7. Akshardham Temple: A grand Hindu temple complex showcasing traditional Indian craftsmanship.\\n8. Chandni Chowk: A bustling market in Old Delhi, famous for its street food and shopping.\\n9. Raj Ghat: A memorial dedicated to Mahatma Gandhi, the Father of the Nation.\\n10. National Museum: A museum housing an extensive collection of Indian art and artifacts.\\n\\nThese are just a few of the many incredible places to explore in New Delhi.\""
      ]
     },
     "execution_count": 11,
     "metadata": {},
     "output_type": "execute_result"
    }
   ],
   "source": [
    "from langchain.prompts import PromptTemplate\n",
    "from langchain.chains import LLMChain, SimpleSequentialChain\n",
    "\n",
    "api_token = os.getenv(\"HUGGINGFACE_API_TOKEN\")\n",
    "model_name = os.getenv(\"HUGGINGFACE_MODEL_NAME\")\n",
    "\n",
    "# llm_model = HuggingFaceHub(\n",
    "#     huggingfacehub_api_token = api_token, repo_id=model_name, model_kwargs={\"max_length\": 128, \"temperature\": 0.5}\n",
    "# )\n",
    "\n",
    "azure_openai_model = AzureChatOpenAI(\n",
    "    azure_deployment =\"gpt-35-turbo-16k\",\n",
    "    azure_endpoint =os.getenv(\"OPENAI_API_BASE\"),\n",
    "    openai_api_key =os.getenv(\"OPENAI_API_KEY\")\n",
    ")\n",
    "\n",
    "capital_template = PromptTemplate(input_variables=['country'], template=\"Please tell me the capital of {country}\")\n",
    "capital_chain = LLMChain(llm=azure_openai_model, prompt=capital_template)\n",
    "\n",
    "famous_template = PromptTemplate(input_variables=['capital'], template=\"Suggest me some amazing places to visit in {capital}\")\n",
    "famous_chain = LLMChain(llm=azure_openai_model, prompt=famous_template)\n",
    "\n",
    "chain = SimpleSequentialChain(chains=[capital_chain,famous_chain])\n",
    "chain.run(\"India\")"
   ]
  },
  {
   "cell_type": "markdown",
   "metadata": {},
   "source": [
    "### Sequential chain"
   ]
  },
  {
   "cell_type": "code",
   "execution_count": 12,
   "metadata": {},
   "outputs": [
    {
     "data": {
      "text/plain": [
       "{'country': 'India',\n",
       " 'capital': 'The capital of India is New Delhi.',\n",
       " 'places': \"Sure! Here are some amazing places to visit in New Delhi, the capital of India:\\n\\n1. Red Fort (Lal Qila): A majestic historical fort with beautiful architecture and significant historical importance.\\n\\n2. Qutub Minar: A UNESCO World Heritage Site, it is one of the tallest minarets in the world and a great example of Indo-Islamic architecture.\\n\\n3. India Gate: A prominent war memorial dedicated to Indian soldiers, surrounded by lush green lawns and a great spot for evening walks.\\n\\n4. Humayun's Tomb: Another UNESCO World Heritage Site, it is the tomb of Mughal Emperor Humayun and displays stunning Mughal architecture.\\n\\n5. Lotus Temple: A Bahá'í House of Worship known for its unique lotus-shaped architecture and tranquil atmosphere.\\n\\n6. Akshardham Temple: A massive Hindu temple complex showcasing Indian art, culture, and spirituality.\\n\\n7. Jama Masjid: One of the largest mosques in India, it offers stunning views of Old Delhi from its minarets.\\n\\n8. Chandni Chowk: The bustling and vibrant market in Old Delhi, famous for its narrow lanes, street food, and shopping.\\n\\n9. National Museum: A treasure trove of Indian history, art, and culture, it houses a vast collection of artifacts from different civilizations.\\n\\n10. Raj Ghat: The memorial dedicated to Mahatma Gandhi, the Father of the Nation, located on the banks of the Yamuna River.\\n\\nThese are just a few of the many attractions New Delhi has to offer. Don't forget to explore its rich street food culture and vibrant markets as well!\"}"
      ]
     },
     "execution_count": 12,
     "metadata": {},
     "output_type": "execute_result"
    }
   ],
   "source": [
    "from langchain.prompts import PromptTemplate\n",
    "from langchain.chains import LLMChain, SequentialChain\n",
    "\n",
    "# api_token = os.getenv(\"HUGGINGFACE_API_TOKEN\")\n",
    "# model_name = os.getenv(\"HUGGINGFACE_MODEL_NAME\")\n",
    "\n",
    "# llm_model = HuggingFaceHub(\n",
    "#     huggingfacehub_api_token = api_token, repo_id=model_name, model_kwargs={\"max_length\": 128, \"temperature\": 0.5}\n",
    "# )\n",
    "\n",
    "azure_openai_model = AzureChatOpenAI(\n",
    "    azure_deployment =\"gpt-35-turbo-16k\",\n",
    "    azure_endpoint =os.getenv(\"OPENAI_API_BASE\"),\n",
    "    openai_api_key =os.getenv(\"OPENAI_API_KEY\")\n",
    ")\n",
    "\n",
    "capital_template = PromptTemplate(input_variables=['country'], template=\"Please tell me the capital of {country}\")\n",
    "capital_chain = LLMChain(llm=azure_openai_model, prompt=capital_template, output_key=\"capital\")\n",
    "\n",
    "famous_template = PromptTemplate(input_variables=['capital'], template=\"Suggest me some amazing places to visit in {capital}\")\n",
    "famous_chain = LLMChain(llm=azure_openai_model, prompt=famous_template,output_key=\"places\")\n",
    "\n",
    "chain = SequentialChain(chains=[capital_chain,famous_chain], input_variables=['country'], output_variables=['capital',\"places\"])\n",
    "chain({'country':\"India\"})"
   ]
  },
  {
   "cell_type": "markdown",
   "metadata": {},
   "source": [
    "## ChatModels with Chat OpenAI"
   ]
  }
 ],
 "metadata": {
  "kernelspec": {
   "display_name": ".venv",
   "language": "python",
   "name": "python3"
  },
  "language_info": {
   "codemirror_mode": {
    "name": "ipython",
    "version": 3
   },
   "file_extension": ".py",
   "mimetype": "text/x-python",
   "name": "python",
   "nbconvert_exporter": "python",
   "pygments_lexer": "ipython3",
   "version": "3.9.0"
  }
 },
 "nbformat": 4,
 "nbformat_minor": 2
}
